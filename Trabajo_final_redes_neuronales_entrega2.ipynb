{
  "cells": [
    {
      "cell_type": "markdown",
      "metadata": {
        "id": "ysu802rM00Hd"
      },
      "source": [
        "<div align=\"left\">\n",
        "<p><img alt=\"Sapiencia\" height=\"140px\" src=\"https://ubicua.ingeniaudea.co/pluginfile.php/32974/coursecat/description/RF_RedesNeuronales.png\" align=\"left\" hspace=\"10px\" vspace=\"0px\"></p></div>\n",
        "<div align=\"left\"></div>\n",
        "<div>\n",
        "\n",
        "<br></br>\n",
        "\n",
        "<div align=\"left\">\n",
        "<br></br>\n",
        "<br></br>\n",
        "\n",
        "\n",
        "\n",
        "<hr size=10 noshade color=\"#663398\">\n",
        "</p>\n",
        "\n",
        "<div align=\"right\">\n",
        "<h1> <b> Trabajo final redes neuronales </b> </h1>\n",
        "<br>\n",
        "\n",
        "\n",
        "**El presente material hace parte de la ruta de formación del talento especializado de SAPIENCIA**\n",
        "\n",
        "**Los documentos que utilizaremos en la presente y proximas clases son una mezcla del trabajo de muchos profesores y académicos.**\n",
        "\n",
        "**En caso de utilizar el presente contenido favor citarlo y brindar los créditos respectivos.**"
      ]
    },
    {
      "cell_type": "markdown",
      "metadata": {
        "id": "RtUNRiakL2zY"
      },
      "source": [
        "#**Descripción trabajo final**\n",
        "\n",
        "<p>\n",
        "  1. Analizar el código paso a paso y entenderlo y realizar una breve explicación de como funciona.<br>\n",
        "  2. Realizar módificaciones variando parámetros como la cantidad de neuronas, tipo de optimizador, funciones de activación, funciones de perdida y tamaños de entrada de la imagen.<br>\n",
        "  3. A partir del entendimiento del código en el punto 1 responda las siguientes preguntas: <br>\n",
        "  <ul>\n",
        "    <li> ¿Cual es el objetivo de categorizar los targets o labels correspondientes a cada imagen? </li>\n",
        "    <li> ¿En que me ayuda la normalización a la hora de entrenar los datos? </li>\n",
        "  </ul>\n",
        "  <p>\n",
        "  4. Realice un informe detallando los resultados obtenidos en el punto 2. El informe debe responder las siguiente preguntas:\n",
        "  <ul>\n",
        "    <li> ¿Cómo variaron los resultados con el aumento o disminución de las neuronas?</li>\n",
        "    <li> ¿Cómo cambia la presición del modelo propuesto, al cambiar la función de activación, que se logra observar de los resultados?</li>\n",
        "    <li> ¿Cuál sería a su criterio la función de activación que se adapta al presente análisis ?</li>\n",
        "    <li> ¿Cómo se comportaron los resultados de las funciones de perdidas analizadas?</li>\n",
        "    <li> ¿Mejoraron los resultados al reducir o aumentar el tamaño de entrada de la imagen?</li>\n",
        "    <li> ¿Cuál fue la mejor solución que logró encontrar y por qué?</li>\n",
        "\n",
        "  </ul>\n",
        "\n",
        "  Nota: El informe debe llevar los valores que probaron en el módelo y para lo cuál como minimo se deben analizar 4 optimizadores,4 funciones de activación, 4 funciones de perdida, 4 opciones de neuronas y tamaños de entrada de la imagen. <br>\n",
        "<p>\n",
        "  5. Concluir en que casos se debe utilizar los optimizadores,funciones de perdida, funciones de activación y tener en cuenta que se debe presentar una gráfica representativa de cada función de activación describiendo los rangos de la función y su comportamiento.\n",
        "</p>"
      ]
    },
    {
      "cell_type": "markdown",
      "metadata": {
        "id": "-oqfHnoyvk2f"
      },
      "source": [
        "##**Porcentajes de calificación:**\n",
        "\n",
        "\n",
        "1.   Punto 1 : 10%\n",
        "2.   Punto 2 : 10%\n",
        "3.   Punto 3 : 10%\n",
        "4.   Punto 4 : 25%\n",
        "5.   Punto 5 : 15%\n",
        "6.   Sustentación : 30%\n",
        "\n",
        "\n",
        "##**Limitantes**\n",
        "   Grupos máximo de 3 personas y mínimo de 2 personas\n"
      ]
    },
    {
      "cell_type": "markdown",
      "metadata": {
        "id": "FVpTSK0uX6Vx"
      },
      "source": [
        "---"
      ]
    },
    {
      "cell_type": "code",
      "execution_count": 10,
      "metadata": {
        "colab": {
          "base_uri": "https://localhost:8080/"
        },
        "id": "ZgbIgNa42evs",
        "outputId": "33875f2a-4e4b-4c9a-abbc-bfbd2889f935"
      },
      "outputs": [],
      "source": [
        "#%pip install tensorflow keras pandas matplotlib"
      ]
    },
    {
      "cell_type": "code",
      "execution_count": 2,
      "metadata": {
        "id": "GDOSj3865Syn"
      },
      "outputs": [],
      "source": [
        "import numpy as np\n",
        "from keras import layers, models\n",
        "from keras.utils import to_categorical\n",
        "from keras.datasets import mnist\n",
        "import matplotlib.pyplot as plt\n",
        "import pandas as pd\n",
        "from tensorflow.keras.callbacks import TensorBoard"
      ]
    },
    {
      "cell_type": "code",
      "execution_count": 3,
      "metadata": {
        "id": "zOgiEiPZISm-"
      },
      "outputs": [],
      "source": [
        "tensorboardDenso = TensorBoard(log_dir ='logs/denso')"
      ]
    },
    {
      "cell_type": "code",
      "execution_count": 4,
      "metadata": {
        "id": "v1NmNS5fMZIj"
      },
      "outputs": [],
      "source": [
        "def crear_modelo(neuronas_por_capa=512,\n",
        "                        numero_capas_internas=1,\n",
        "                        funcion_activacion_capas_internas = 'relu',\n",
        "                        funcion_activacion_capa_salida=['softmax'],\n",
        "                        neuronas_entrada = 28*28,\n",
        "                        optimizador='rmsprop',\n",
        "                        funcion_perdida='categorical_crossentropy',\n",
        "                        metricas = ['accuracy', 'Precision']\n",
        "                        ):\n",
        "    \n",
        "    model = models.Sequential()\n",
        "    model.add(layers.Dense(neuronas_por_capa,activation=funcion_activacion_capas_internas, input_shape=(neuronas_entrada,)))\n",
        "\n",
        "    while(numero_capas_internas>1):\n",
        "        model.add(layers.Dense(neuronas_por_capa,activation=funcion_activacion_capas_internas))\n",
        "        numero_capas_internas= numero_capas_internas-1\n",
        "    \n",
        "    model.add(layers.Dense(10,activation=funcion_activacion_capa_salida))\n",
        "\n",
        "    model.compile(optimizer=optimizador,\n",
        "                loss=funcion_perdida,\n",
        "                metrics= metricas)\n",
        "    model.summary()\n",
        "\n",
        "    return model"
      ]
    },
    {
      "cell_type": "code",
      "execution_count": 5,
      "metadata": {},
      "outputs": [],
      "source": [
        "def transformar_dataset(train_data,test_data,train_labels,test_labels,tamaño_imagen = 28*28):\n",
        "\n",
        "    x_train = train_data.reshape((train_data.shape[0],tamaño_imagen))\n",
        "    x_train = x_train.astype('float32')/255\n",
        "\n",
        "    x_test = test_data.reshape((test_data.shape[0],tamaño_imagen))\n",
        "    x_test = x_test.astype('float32')/255\n",
        "\n",
        "    # transformar labels de array categorico a arrays de bits\n",
        "    y_train = to_categorical(train_labels)\n",
        "    y_test =to_categorical(test_labels)\n",
        "\n",
        "    return x_train,y_train, x_test,y_test"
      ]
    },
    {
      "cell_type": "code",
      "execution_count": 6,
      "metadata": {},
      "outputs": [],
      "source": [
        "def entrenar_modelo(x_train,y_train,x_test, y_test,model, epocas=20,batch_size=128):\n",
        "    #asegurar que todos los datos de entrada sean de tipo numpy array\n",
        "    x_train = np.asarray(x_train)\n",
        "    y_train = np.asarray(y_train)\n",
        "    x_test = np.asarray(x_test)\n",
        "    y_test = np.asarray(y_test)\n",
        "    history = model.fit(x_train, y_train, epochs=epocas,callbacks=[tensorboardDenso], batch_size=batch_size, validation_data=(x_test, y_test))\n",
        "    return history,model"
      ]
    },
    {
      "cell_type": "code",
      "execution_count": 22,
      "metadata": {},
      "outputs": [],
      "source": [
        "def evaluar_modelo(model,history,x_test, y_test,titulo):\n",
        "    \n",
        "    pd.DataFrame({'loss': history.history['loss'],\n",
        "              'val_loss': history.history['val_loss']}).plot(figsize=(10, 7))\n",
        "    plt.grid(True)\n",
        "    plt.title(titulo)\n",
        "    plt.xlabel(\"epochs\")\n",
        "    plt.show()\n",
        "\n",
        "    metricas = model.evaluate(x_test, y_test)\n",
        "    print(\"**************************metricas******************************************\")\n",
        "    print(f\"\"\"\n",
        "    loss = {metricas[0]}\n",
        "    accuracy = {metricas[1]}\n",
        "    precision = {metricas[2]}\n",
        "    \"\"\")\n",
        "    return metricas"
      ]
    },
    {
      "cell_type": "markdown",
      "metadata": {},
      "source": [
        "# Variacion de parametros"
      ]
    },
    {
      "cell_type": "markdown",
      "metadata": {},
      "source": [
        "## 1. Cantidad de neuronas"
      ]
    },
    {
      "cell_type": "code",
      "execution_count": 8,
      "metadata": {},
      "outputs": [],
      "source": [
        "lista_neuronas = [512,256,128,64]\n",
        "funcion_activacion_capas_internas = 'relu'\n",
        "funcion_activacion_salida = 'softmax'\n",
        "valor_neuronas_entrada = 28*28"
      ]
    },
    {
      "cell_type": "code",
      "execution_count": 9,
      "metadata": {},
      "outputs": [],
      "source": [
        "#cargar dataset\n",
        "(train_data, train_labels), (test_data, test_labels) =mnist.load_data()\n",
        "#transformar datos\n",
        "x_train,y_train, x_test,y_test = transformar_dataset(train_data,test_data,train_labels,test_labels,28*28)"
      ]
    },
    {
      "cell_type": "code",
      "execution_count": 24,
      "metadata": {},
      "outputs": [
        {
          "name": "stdout",
          "output_type": "stream",
          "text": [
            "*********************************** Numero Neuronas: 512***********************************\n",
            "Model: \"sequential_8\"\n",
            "_________________________________________________________________\n",
            " Layer (type)                Output Shape              Param #   \n",
            "=================================================================\n",
            " dense_16 (Dense)            (None, 512)               401920    \n",
            "                                                                 \n",
            " dense_17 (Dense)            (None, 10)                5130      \n",
            "                                                                 \n",
            "=================================================================\n"
          ]
        },
        {
          "name": "stdout",
          "output_type": "stream",
          "text": [
            "Total params: 407050 (1.55 MB)\n",
            "Trainable params: 407050 (1.55 MB)\n",
            "Non-trainable params: 0 (0.00 Byte)\n",
            "_________________________________________________________________\n",
            "Epoch 1/20\n",
            "469/469 [==============================] - 5s 10ms/step - loss: 0.2617 - accuracy: 0.9245 - precision: 0.9519 - val_loss: 0.1257 - val_accuracy: 0.9625 - val_precision: 0.9704\n",
            "Epoch 2/20\n",
            "469/469 [==============================] - 5s 11ms/step - loss: 0.1055 - accuracy: 0.9693 - precision: 0.9752 - val_loss: 0.0858 - val_accuracy: 0.9734 - val_precision: 0.9779\n",
            "Epoch 3/20\n",
            " 31/469 [>.............................] - ETA: 4s - loss: 0.0677 - accuracy: 0.9806 - precision: 0.9835"
          ]
        }
      ],
      "source": [
        "modelos_cantidad_neuronas = {}\n",
        "for n in lista_neuronas:\n",
        "    print(f\"*********************************** Numero Neuronas: {n}***********************************\")\n",
        "    #crear modelo\n",
        "    modelo = crear_modelo(neuronas_por_capa=n,\n",
        "                            numero_capas_internas=1,\n",
        "                            funcion_activacion_capas_internas = 'relu',\n",
        "                            funcion_activacion_capa_salida='softmax',\n",
        "                            neuronas_entrada = valor_neuronas_entrada,\n",
        "                            optimizador='rmsprop',\n",
        "                            funcion_perdida='categorical_crossentropy',\n",
        "                            metricas = ['accuracy', 'Precision']\n",
        "                            )\n",
        "    #entrenar modelo\n",
        "\n",
        "    registros_entrenamiento,modelo_entrenado= entrenar_modelo(x_train,y_train, x_test, y_test,modelo, 20, 128)\n",
        "\n",
        "    #evaluar resultado\n",
        "    titulo=f\"Cantidad de neuronas: {n}\"\n",
        "    metricas = evaluar_modelo(modelo_entrenado,registros_entrenamiento,x_test, y_test,titulo)\n",
        "    llave = f\"modelo_{n}\"\n",
        "    modelos_cantidad_neuronas[llave] = metricas"
      ]
    },
    {
      "cell_type": "markdown",
      "metadata": {},
      "source": [
        "## 2. Tipo de optimizador"
      ]
    },
    {
      "cell_type": "markdown",
      "metadata": {},
      "source": [
        "## 3. Funciones de activación"
      ]
    },
    {
      "cell_type": "markdown",
      "metadata": {},
      "source": [
        "## 4. Funciones de perdida"
      ]
    },
    {
      "cell_type": "markdown",
      "metadata": {},
      "source": [
        "## 5. Tamaños de entrada de la imagen"
      ]
    },
    {
      "cell_type": "code",
      "execution_count": null,
      "metadata": {
        "colab": {
          "base_uri": "https://localhost:8080/"
        },
        "id": "PNNj4fr5IxeV",
        "outputId": "b149c98c-ef7a-4df5-9857-0e0d93041a7e"
      },
      "outputs": [
        {
          "name": "stdout",
          "output_type": "stream",
          "text": [
            "The tensorboard extension is already loaded. To reload it, use:\n",
            "  %reload_ext tensorboard\n"
          ]
        }
      ],
      "source": [
        "%load_ext tensorboard"
      ]
    },
    {
      "cell_type": "code",
      "execution_count": null,
      "metadata": {
        "id": "FZ3rmo1hMN-k"
      },
      "outputs": [],
      "source": [
        " %reload_ext tensorboard"
      ]
    },
    {
      "cell_type": "code",
      "execution_count": null,
      "metadata": {
        "colab": {
          "base_uri": "https://localhost:8080/",
          "height": 821
        },
        "id": "smIZDMZgI2gz",
        "outputId": "046250ca-cd60-449f-efde-0d3d293776b5"
      },
      "outputs": [
        {
          "data": {
            "application/javascript": "\n        (async () => {\n            const url = new URL(await google.colab.kernel.proxyPort(6006, {'cache': true}));\n            url.searchParams.set('tensorboardColab', 'true');\n            const iframe = document.createElement('iframe');\n            iframe.src = url;\n            iframe.setAttribute('width', '100%');\n            iframe.setAttribute('height', '800');\n            iframe.setAttribute('frameborder', 0);\n            document.body.appendChild(iframe);\n        })();\n    ",
            "text/plain": [
              "<IPython.core.display.Javascript object>"
            ]
          },
          "metadata": {},
          "output_type": "display_data"
        }
      ],
      "source": [
        "%tensorboard --logdir logs\n"
      ]
    },
    {
      "cell_type": "code",
      "execution_count": null,
      "metadata": {
        "id": "91MwzElDKEdN"
      },
      "outputs": [],
      "source": [
        "!kill 8369"
      ]
    }
  ],
  "metadata": {
    "accelerator": "GPU",
    "colab": {
      "gpuType": "T4",
      "provenance": []
    },
    "kernelspec": {
      "display_name": "Python 3",
      "name": "python3"
    },
    "language_info": {
      "codemirror_mode": {
        "name": "ipython",
        "version": 3
      },
      "file_extension": ".py",
      "mimetype": "text/x-python",
      "name": "python",
      "nbconvert_exporter": "python",
      "pygments_lexer": "ipython3",
      "version": "3.11.4"
    }
  },
  "nbformat": 4,
  "nbformat_minor": 0
}
